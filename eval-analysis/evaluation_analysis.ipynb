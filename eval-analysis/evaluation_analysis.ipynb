{
  "cells": [
    {
      "cell_type": "code",
      "execution_count": 1,
      "metadata": {
        "id": "x9Uy3RzzBkkb"
      },
      "outputs": [],
      "source": [
        "import psycopg2\n",
        "import pandas as pd\n",
        "import pandas.io.sql as sqlio\n",
        "import config"
      ]
    },
    {
      "cell_type": "markdown",
      "metadata": {
        "id": "7k2BNhanMYAF"
      },
      "source": [
        "### SETUP"
      ]
    },
    {
      "cell_type": "code",
      "execution_count": 2,
      "metadata": {
        "id": "HQf3iwUTMFd6"
      },
      "outputs": [],
      "source": [
        "SAVE_CSV = False\n",
        "TEST = True"
      ]
    },
    {
      "cell_type": "code",
      "execution_count": 3,
      "metadata": {
        "id": "Tcw1B62gqvZg"
      },
      "outputs": [
        {
          "name": "stderr",
          "output_type": "stream",
          "text": [
            "/Users/aun/Desktop/Folders/Work/Github/resource-based-checklist-generation/database/lib/python3.9/site-packages/pandas/io/sql.py:761: UserWarning: pandas only support SQLAlchemy connectable(engine/connection) ordatabase string URI or sqlite3 DBAPI2 connectionother DBAPI2 objects are not tested, please consider using SQLAlchemy\n",
            "  warnings.warn(\n"
          ]
        }
      ],
      "source": [
        "conn = psycopg2.connect(**(config.config()))\n",
        "cur = conn.cursor()\n",
        "sql = \"SELECT * FROM evaluation\"\n",
        "df = sqlio.read_sql_query(sql, conn)\n",
        "conn.close()"
      ]
    },
    {
      "cell_type": "code",
      "execution_count": 4,
      "metadata": {
        "colab": {
          "base_uri": "https://localhost:8080/"
        },
        "id": "M8aMbH7z1oOM",
        "outputId": "642c289f-acda-4404-87d4-af63cecfc00b"
      },
      "outputs": [],
      "source": [
        "df['time'] = df['time'].astype(int)\n",
        "filtered_out = [] if TEST else ['EaDiYc', 'amwWOh']\n",
        "filtered_df = df[~(df['id'].isin(filtered_out))].groupby('id').filter(lambda group: len(group) == 4)"
      ]
    },
    {
      "cell_type": "code",
      "execution_count": 5,
      "metadata": {
        "id": "0rnAvtHtsO7n"
      },
      "outputs": [],
      "source": [
        "list_tasks = [\n",
        "              list(filtered_df.groupby('task').get_group('task1')['result']),\n",
        "              list(filtered_df.groupby('task').get_group('task2')['result']),\n",
        "              list(filtered_df.groupby('task').get_group('task3')['result']),\n",
        "]"
      ]
    },
    {
      "cell_type": "markdown",
      "metadata": {
        "id": "9tX7ZftSBirE"
      },
      "source": [
        "### Calculate Avg. Time Performing Each Task"
      ]
    },
    {
      "cell_type": "code",
      "execution_count": 6,
      "metadata": {
        "colab": {
          "base_uri": "https://localhost:8080/",
          "height": 143
        },
        "id": "FDe1UVQtDMd0",
        "outputId": "39a3b87e-85ed-4508-900b-87407147cdb8"
      },
      "outputs": [
        {
          "data": {
            "text/html": [
              "<div>\n",
              "<style scoped>\n",
              "    .dataframe tbody tr th:only-of-type {\n",
              "        vertical-align: middle;\n",
              "    }\n",
              "\n",
              "    .dataframe tbody tr th {\n",
              "        vertical-align: top;\n",
              "    }\n",
              "\n",
              "    .dataframe thead th {\n",
              "        text-align: right;\n",
              "    }\n",
              "</style>\n",
              "<table border=\"1\" class=\"dataframe\">\n",
              "  <thead>\n",
              "    <tr style=\"text-align: right;\">\n",
              "      <th></th>\n",
              "      <th>task</th>\n",
              "      <th>avg</th>\n",
              "    </tr>\n",
              "  </thead>\n",
              "  <tbody>\n",
              "    <tr>\n",
              "      <th>0</th>\n",
              "      <td>task1</td>\n",
              "      <td>876.439302</td>\n",
              "    </tr>\n",
              "    <tr>\n",
              "      <th>1</th>\n",
              "      <td>task2</td>\n",
              "      <td>234.404584</td>\n",
              "    </tr>\n",
              "    <tr>\n",
              "      <th>2</th>\n",
              "      <td>task3</td>\n",
              "      <td>455.467203</td>\n",
              "    </tr>\n",
              "  </tbody>\n",
              "</table>\n",
              "</div>"
            ],
            "text/plain": [
              "    task         avg\n",
              "0  task1  876.439302\n",
              "1  task2  234.404584\n",
              "2  task3  455.467203"
            ]
          },
          "execution_count": 6,
          "metadata": {},
          "output_type": "execute_result"
        }
      ],
      "source": [
        "nano_to_sec_convertion = 1e9\n",
        "completed_evaluation = pd.DataFrame(filtered_df[['id', 'task']])\n",
        "completed_evaluation['avg'] = filtered_df.sort_values(['id', 'time']).groupby('id')['time'].diff(1) / nano_to_sec_convertion\n",
        "completed_evaluation.groupby('task')['avg'].mean().dropna().reset_index()"
      ]
    },
    {
      "cell_type": "code",
      "execution_count": 7,
      "metadata": {
        "colab": {
          "base_uri": "https://localhost:8080/"
        },
        "id": "4b7wkMQ6HHQT",
        "outputId": "8fa8a703-a76e-4ef7-aead-c6282cbde1c7"
      },
      "outputs": [
        {
          "name": "stdout",
          "output_type": "stream",
          "text": [
            "Average time taken to finish all the tasks: 26:6.31 min (1566.31 seconds)\n"
          ]
        }
      ],
      "source": [
        "survey_time = filtered_df[(filtered_df['task'] == 'booking') | (filtered_df['task'] == 'task3')].sort_values(['id', 'time']).groupby('id')['time'].diff(1) / nano_to_sec_convertion\n",
        "avg_time_taken = survey_time.dropna().mean()\n",
        "print(f'Average time taken to finish all the tasks: {int(avg_time_taken // 60)}:{(avg_time_taken % 60).round(2)} min ({avg_time_taken.round(2)} seconds)')"
      ]
    },
    {
      "cell_type": "code",
      "execution_count": 8,
      "metadata": {
        "id": "frSpSrBqbfgL"
      },
      "outputs": [],
      "source": [
        "def objs_exist(arr, fields, exist=1):\n",
        "  return len([a for a in arr if all(str(a[k]).strip() == str(v) for k, v in fields.items())]) == exist"
      ]
    },
    {
      "cell_type": "markdown",
      "metadata": {
        "id": "II9WDSil37jZ"
      },
      "source": [
        "### Task 1"
      ]
    },
    {
      "cell_type": "code",
      "execution_count": 9,
      "metadata": {
        "id": "Yd27dRE39pWI"
      },
      "outputs": [],
      "source": [
        "task1_checklist = []\n",
        "task_no = 0\n",
        "\n",
        "for item in list_tasks[task_no]:\n",
        "  task_checklist = {}\n",
        "  tx_details = item['information'][0]['details']\n",
        "  task_checklist['information_name'] = item['information'][0]['name'] == 'Purchased Items'\n",
        "  task_checklist['customer_id_hide'] = objs_exist(tx_details, {'inputDependencyField': 'customer_id'})\n",
        "  task_checklist['order_name'] = objs_exist(tx_details, {'name': 'Order ID'})\n",
        "  task_checklist['total_price'] = objs_exist(tx_details, {'inputDependencyField': 'total_price', 'name': 'Total Price'})\n",
        "  task_checklist['tx_id'] = objs_exist(tx_details, {'inputDependencyField': 'id', 'queryTable': 'transactions', 'queryField': 'id'})\n",
        "  task_checklist['tx_id_name'] = objs_exist(tx_details, {'inputDependencyField': 'id', 'queryTable': 'transactions', 'queryField': 'id', 'name': 'Transaction ID'})\n",
        "  task_checklist['item_id'] = objs_exist(tx_details, {'inputDependencyField': 'id', 'queryTable': 'item_list', 'queryField': 'item_id'})\n",
        "  task_checklist['item_id_name'] = objs_exist(tx_details, {'inputDependencyField': 'id', 'queryTable': 'item_list', 'queryField': 'item_id', 'name': 'Item ID'})\n",
        "\n",
        "  task_checklist['c_len'] = len(item['components']) == 1\n",
        "  task_checklist['c_header'] = objs_exist(item['components'], {'componentType': 'HEADER', 'order': 0, 'name': 'Card Details'})\n",
        "  card_form = item['components'][0]['children']\n",
        "  task_checklist['c_child_len'] = task_checklist['c_header'] and len(item['components'][0]['children']) == 3\n",
        "  task_checklist['c_card_no'] = task_checklist['c_header'] and objs_exist(card_form, {'componentType': 'INPUT', 'name': 'Card Number'})\n",
        "  task_checklist['c_expire'] = task_checklist['c_header'] and objs_exist(card_form, {'componentType': 'DATE', 'name': 'Expire Date'})\n",
        "  task_checklist['c_code'] = task_checklist['c_header'] and objs_exist(card_form, {'componentType': 'INPUT', 'name': 'Security Code'})\n",
        "  task_checklist['c_card_no_ode'] = task_checklist['c_header'] and objs_exist(card_form, {'componentType': 'INPUT', 'name': 'Card Number', 'outputDependency': 'CardDetails', 'outputDependencyField': 'card_no'})\n",
        "  task_checklist['c_expire_ode'] = task_checklist['c_header'] and objs_exist(card_form, {'componentType': 'DATE', 'name': 'Expire Date', 'outputDependency': 'CardDetails', 'outputDependencyField': 'expire'})\n",
        "  task_checklist['c_code_ode'] = task_checklist['c_header'] and objs_exist(card_form, {'componentType': 'INPUT', 'name': 'Security Code', 'outputDependency': 'CardDetails', 'outputDependencyField': 'code'})\n",
        "  task_checklist['c_card_no_ide'] = task_checklist['c_header'] and objs_exist(card_form, {'componentType': 'INPUT', 'name': 'Card Number', 'outputDependency': 'CardDetails', 'inputDependencyField': ''})\n",
        "  task_checklist['c_expire_ide'] = task_checklist['c_header'] and objs_exist(card_form, {'componentType': 'DATE', 'name': 'Expire Date', 'outputDependency': 'CardDetails', 'inputDependencyField': ''})\n",
        "  task_checklist['c_code_ide'] = task_checklist['c_header'] and objs_exist(card_form, {'componentType': 'INPUT', 'name': 'Security Code', 'outputDependency': 'CardDetails', 'inputDependencyField': ''})\n",
        "\n",
        "  task_checklist['accuracy'] = list(task_checklist.values()).count(True) / len(task_checklist.values())\n",
        "  task1_checklist.append(task_checklist)"
      ]
    },
    {
      "cell_type": "code",
      "execution_count": 10,
      "metadata": {
        "colab": {
          "base_uri": "https://localhost:8080/",
          "height": 237
        },
        "id": "KVmQRy8WIsG2",
        "outputId": "1c5b5059-1d11-4486-8a23-e3dbcdbd7a11"
      },
      "outputs": [
        {
          "data": {
            "text/html": [
              "<div>\n",
              "<style scoped>\n",
              "    .dataframe tbody tr th:only-of-type {\n",
              "        vertical-align: middle;\n",
              "    }\n",
              "\n",
              "    .dataframe tbody tr th {\n",
              "        vertical-align: top;\n",
              "    }\n",
              "\n",
              "    .dataframe thead th {\n",
              "        text-align: right;\n",
              "    }\n",
              "</style>\n",
              "<table border=\"1\" class=\"dataframe\">\n",
              "  <thead>\n",
              "    <tr style=\"text-align: right;\">\n",
              "      <th></th>\n",
              "      <th>information_name</th>\n",
              "      <th>customer_id_hide</th>\n",
              "      <th>order_name</th>\n",
              "      <th>total_price</th>\n",
              "      <th>tx_id</th>\n",
              "      <th>tx_id_name</th>\n",
              "      <th>item_id</th>\n",
              "      <th>item_id_name</th>\n",
              "      <th>c_len</th>\n",
              "      <th>c_header</th>\n",
              "      <th>...</th>\n",
              "      <th>c_card_no</th>\n",
              "      <th>c_expire</th>\n",
              "      <th>c_code</th>\n",
              "      <th>c_card_no_ode</th>\n",
              "      <th>c_expire_ode</th>\n",
              "      <th>c_code_ode</th>\n",
              "      <th>c_card_no_ide</th>\n",
              "      <th>c_expire_ide</th>\n",
              "      <th>c_code_ide</th>\n",
              "      <th>accuracy</th>\n",
              "    </tr>\n",
              "  </thead>\n",
              "  <tbody>\n",
              "    <tr>\n",
              "      <th>0</th>\n",
              "      <td>False</td>\n",
              "      <td>True</td>\n",
              "      <td>True</td>\n",
              "      <td>True</td>\n",
              "      <td>True</td>\n",
              "      <td>True</td>\n",
              "      <td>True</td>\n",
              "      <td>True</td>\n",
              "      <td>True</td>\n",
              "      <td>True</td>\n",
              "      <td>...</td>\n",
              "      <td>True</td>\n",
              "      <td>False</td>\n",
              "      <td>True</td>\n",
              "      <td>True</td>\n",
              "      <td>False</td>\n",
              "      <td>True</td>\n",
              "      <td>True</td>\n",
              "      <td>False</td>\n",
              "      <td>True</td>\n",
              "      <td>0.8</td>\n",
              "    </tr>\n",
              "    <tr>\n",
              "      <th>1</th>\n",
              "      <td>True</td>\n",
              "      <td>True</td>\n",
              "      <td>True</td>\n",
              "      <td>True</td>\n",
              "      <td>True</td>\n",
              "      <td>True</td>\n",
              "      <td>True</td>\n",
              "      <td>True</td>\n",
              "      <td>True</td>\n",
              "      <td>True</td>\n",
              "      <td>...</td>\n",
              "      <td>True</td>\n",
              "      <td>True</td>\n",
              "      <td>True</td>\n",
              "      <td>True</td>\n",
              "      <td>True</td>\n",
              "      <td>True</td>\n",
              "      <td>True</td>\n",
              "      <td>True</td>\n",
              "      <td>True</td>\n",
              "      <td>1.0</td>\n",
              "    </tr>\n",
              "    <tr>\n",
              "      <th>2</th>\n",
              "      <td>0.5</td>\n",
              "      <td>1.0</td>\n",
              "      <td>1.0</td>\n",
              "      <td>1.0</td>\n",
              "      <td>1.0</td>\n",
              "      <td>1.0</td>\n",
              "      <td>1.0</td>\n",
              "      <td>1.0</td>\n",
              "      <td>1.0</td>\n",
              "      <td>1.0</td>\n",
              "      <td>...</td>\n",
              "      <td>1.0</td>\n",
              "      <td>0.5</td>\n",
              "      <td>1.0</td>\n",
              "      <td>1.0</td>\n",
              "      <td>0.5</td>\n",
              "      <td>1.0</td>\n",
              "      <td>1.0</td>\n",
              "      <td>0.5</td>\n",
              "      <td>1.0</td>\n",
              "      <td>0.9</td>\n",
              "    </tr>\n",
              "  </tbody>\n",
              "</table>\n",
              "<p>3 rows × 21 columns</p>\n",
              "</div>"
            ],
            "text/plain": [
              "  information_name customer_id_hide order_name total_price tx_id tx_id_name  \\\n",
              "0            False             True       True        True  True       True   \n",
              "1             True             True       True        True  True       True   \n",
              "2              0.5              1.0        1.0         1.0   1.0        1.0   \n",
              "\n",
              "  item_id item_id_name c_len c_header  ... c_card_no c_expire c_code  \\\n",
              "0    True         True  True     True  ...      True    False   True   \n",
              "1    True         True  True     True  ...      True     True   True   \n",
              "2     1.0          1.0   1.0      1.0  ...       1.0      0.5    1.0   \n",
              "\n",
              "  c_card_no_ode c_expire_ode c_code_ode c_card_no_ide c_expire_ide c_code_ide  \\\n",
              "0          True        False       True          True        False       True   \n",
              "1          True         True       True          True         True       True   \n",
              "2           1.0          0.5        1.0           1.0          0.5        1.0   \n",
              "\n",
              "  accuracy  \n",
              "0      0.8  \n",
              "1      1.0  \n",
              "2      0.9  \n",
              "\n",
              "[3 rows x 21 columns]"
            ]
          },
          "execution_count": 10,
          "metadata": {},
          "output_type": "execute_result"
        }
      ],
      "source": [
        "df_task1_checklist = pd.DataFrame(task1_checklist)\n",
        "task1_results = pd.concat([df_task1_checklist, pd.DataFrame(df_task1_checklist.mean(numeric_only=True, axis=0)).transpose()]).reset_index().drop(columns='index')\n",
        "if SAVE_CSV: task1_results.to_csv('task1_results.csv')\n",
        "task1_results"
      ]
    },
    {
      "cell_type": "markdown",
      "metadata": {
        "id": "m148zJVTNbiH"
      },
      "source": [
        "### Task 2"
      ]
    },
    {
      "cell_type": "code",
      "execution_count": 11,
      "metadata": {
        "id": "5WrO6E40Y8sq"
      },
      "outputs": [],
      "source": [
        "task2_checklist = []\n",
        "task_no = 1\n",
        "\n",
        "for item in list_tasks[task_no]:\n",
        "  task_checklist = {}\n",
        "  tx_details = item['information'][0]['details']\n",
        "  task_checklist['information_name'] = item['information'][0]['name'] == 'Purchased Items'\n",
        "  task_checklist['customer_id_hide'] = objs_exist(tx_details, {'inputDependencyField': 'customer_id'})\n",
        "  task_checklist['order_name'] = objs_exist(tx_details, {'name': 'Order ID'})\n",
        "  task_checklist['total_price'] = objs_exist(tx_details, {'inputDependencyField': 'total_price', 'name': 'Total Price'})\n",
        "  task_checklist['tx_id'] = objs_exist(tx_details, {'inputDependencyField': 'id', 'queryTable': 'transactions', 'queryField': 'id'})\n",
        "  task_checklist['tx_id_name'] = objs_exist(tx_details, {'inputDependencyField': 'id', 'queryTable': 'transactions', 'queryField': 'id', 'name': 'Transaction ID'})\n",
        "  task_checklist['item_id'] = objs_exist(tx_details, {'inputDependencyField': 'id', 'queryTable': 'item_list', 'queryField': 'item_id'})\n",
        "  task_checklist['item_id_name'] = objs_exist(tx_details, {'inputDependencyField': 'id', 'queryTable': 'item_list', 'queryField': 'item_id', 'name': 'Item ID'})\n",
        "\n",
        "  task_checklist['c_len'] = len(item['components']) == 1\n",
        "  task_checklist['c_header'] = objs_exist(item['components'], {'componentType': 'HEADER', 'order': 0, 'name': 'Card Details'})\n",
        "  card_form = item['components'][0]['children']\n",
        "  task_checklist['c_child_len'] = task_checklist['c_header'] and len(item['components'][0]['children']) == 3\n",
        "  task_checklist['c_card_no'] = task_checklist['c_header'] and objs_exist(card_form, {'componentType': 'INPUT', 'name': 'Card Number'})\n",
        "  task_checklist['c_expire'] = task_checklist['c_header'] and objs_exist(card_form, {'componentType': 'DATE', 'name': 'Expire Date'})\n",
        "  task_checklist['c_code'] = task_checklist['c_header'] and objs_exist(card_form, {'componentType': 'INPUT', 'name': 'Security Code'})\n",
        "  task_checklist['c_card_no_ode'] = task_checklist['c_header'] and objs_exist(card_form, {'componentType': 'INPUT', 'name': 'Card Number', 'outputDependency': 'CardDetails', 'outputDependencyField': 'card_no'})\n",
        "  task_checklist['c_expire_ode'] = task_checklist['c_header'] and objs_exist(card_form, {'componentType': 'DATE', 'name': 'Expire Date', 'outputDependency': 'CardDetails', 'outputDependencyField': 'expire'})\n",
        "  task_checklist['c_code_ode'] = task_checklist['c_header'] and objs_exist(card_form, {'componentType': 'INPUT', 'name': 'Security Code', 'outputDependency': 'CardDetails', 'outputDependencyField': 'code'})\n",
        "  task_checklist['c_card_no_ide'] = task_checklist['c_header'] and objs_exist(card_form, {'componentType': 'INPUT', 'name': 'Card Number', 'outputDependency': 'CardDetails', 'inputDependencyField': ''})\n",
        "  task_checklist['c_expire_ide'] = task_checklist['c_header'] and objs_exist(card_form, {'componentType': 'DATE', 'name': 'Expire Date', 'outputDependency': 'CardDetails', 'inputDependencyField': ''})\n",
        "  task_checklist['c_code_ide'] = task_checklist['c_header'] and objs_exist(card_form, {'componentType': 'INPUT', 'name': 'Security Code', 'outputDependency': 'CardDetails', 'inputDependencyField': ''})\n",
        "  \n",
        "  task_checklist['accuracy'] = list(task_checklist.values()).count(True) / len(task_checklist.values())\n",
        "  task2_checklist.append(task_checklist)"
      ]
    },
    {
      "cell_type": "code",
      "execution_count": 12,
      "metadata": {
        "colab": {
          "base_uri": "https://localhost:8080/",
          "height": 237
        },
        "id": "4st2ANhMNddR",
        "outputId": "e4096f3d-84a2-43da-b14e-57ae646dbb53"
      },
      "outputs": [
        {
          "data": {
            "text/html": [
              "<div>\n",
              "<style scoped>\n",
              "    .dataframe tbody tr th:only-of-type {\n",
              "        vertical-align: middle;\n",
              "    }\n",
              "\n",
              "    .dataframe tbody tr th {\n",
              "        vertical-align: top;\n",
              "    }\n",
              "\n",
              "    .dataframe thead th {\n",
              "        text-align: right;\n",
              "    }\n",
              "</style>\n",
              "<table border=\"1\" class=\"dataframe\">\n",
              "  <thead>\n",
              "    <tr style=\"text-align: right;\">\n",
              "      <th></th>\n",
              "      <th>information_name</th>\n",
              "      <th>customer_id_hide</th>\n",
              "      <th>order_name</th>\n",
              "      <th>total_price</th>\n",
              "      <th>tx_id</th>\n",
              "      <th>tx_id_name</th>\n",
              "      <th>item_id</th>\n",
              "      <th>item_id_name</th>\n",
              "      <th>c_len</th>\n",
              "      <th>c_header</th>\n",
              "      <th>...</th>\n",
              "      <th>c_card_no</th>\n",
              "      <th>c_expire</th>\n",
              "      <th>c_code</th>\n",
              "      <th>c_card_no_ode</th>\n",
              "      <th>c_expire_ode</th>\n",
              "      <th>c_code_ode</th>\n",
              "      <th>c_card_no_ide</th>\n",
              "      <th>c_expire_ide</th>\n",
              "      <th>c_code_ide</th>\n",
              "      <th>accuracy</th>\n",
              "    </tr>\n",
              "  </thead>\n",
              "  <tbody>\n",
              "    <tr>\n",
              "      <th>0</th>\n",
              "      <td>True</td>\n",
              "      <td>True</td>\n",
              "      <td>True</td>\n",
              "      <td>True</td>\n",
              "      <td>True</td>\n",
              "      <td>True</td>\n",
              "      <td>True</td>\n",
              "      <td>True</td>\n",
              "      <td>True</td>\n",
              "      <td>True</td>\n",
              "      <td>...</td>\n",
              "      <td>True</td>\n",
              "      <td>False</td>\n",
              "      <td>True</td>\n",
              "      <td>True</td>\n",
              "      <td>False</td>\n",
              "      <td>True</td>\n",
              "      <td>True</td>\n",
              "      <td>False</td>\n",
              "      <td>True</td>\n",
              "      <td>0.850</td>\n",
              "    </tr>\n",
              "    <tr>\n",
              "      <th>1</th>\n",
              "      <td>True</td>\n",
              "      <td>True</td>\n",
              "      <td>True</td>\n",
              "      <td>True</td>\n",
              "      <td>True</td>\n",
              "      <td>True</td>\n",
              "      <td>True</td>\n",
              "      <td>True</td>\n",
              "      <td>True</td>\n",
              "      <td>True</td>\n",
              "      <td>...</td>\n",
              "      <td>True</td>\n",
              "      <td>True</td>\n",
              "      <td>True</td>\n",
              "      <td>True</td>\n",
              "      <td>True</td>\n",
              "      <td>True</td>\n",
              "      <td>True</td>\n",
              "      <td>True</td>\n",
              "      <td>True</td>\n",
              "      <td>1.000</td>\n",
              "    </tr>\n",
              "    <tr>\n",
              "      <th>2</th>\n",
              "      <td>1.0</td>\n",
              "      <td>1.0</td>\n",
              "      <td>1.0</td>\n",
              "      <td>1.0</td>\n",
              "      <td>1.0</td>\n",
              "      <td>1.0</td>\n",
              "      <td>1.0</td>\n",
              "      <td>1.0</td>\n",
              "      <td>1.0</td>\n",
              "      <td>1.0</td>\n",
              "      <td>...</td>\n",
              "      <td>1.0</td>\n",
              "      <td>0.5</td>\n",
              "      <td>1.0</td>\n",
              "      <td>1.0</td>\n",
              "      <td>0.5</td>\n",
              "      <td>1.0</td>\n",
              "      <td>1.0</td>\n",
              "      <td>0.5</td>\n",
              "      <td>1.0</td>\n",
              "      <td>0.925</td>\n",
              "    </tr>\n",
              "  </tbody>\n",
              "</table>\n",
              "<p>3 rows × 21 columns</p>\n",
              "</div>"
            ],
            "text/plain": [
              "  information_name customer_id_hide order_name total_price tx_id tx_id_name  \\\n",
              "0             True             True       True        True  True       True   \n",
              "1             True             True       True        True  True       True   \n",
              "2              1.0              1.0        1.0         1.0   1.0        1.0   \n",
              "\n",
              "  item_id item_id_name c_len c_header  ... c_card_no c_expire c_code  \\\n",
              "0    True         True  True     True  ...      True    False   True   \n",
              "1    True         True  True     True  ...      True     True   True   \n",
              "2     1.0          1.0   1.0      1.0  ...       1.0      0.5    1.0   \n",
              "\n",
              "  c_card_no_ode c_expire_ode c_code_ode c_card_no_ide c_expire_ide c_code_ide  \\\n",
              "0          True        False       True          True        False       True   \n",
              "1          True         True       True          True         True       True   \n",
              "2           1.0          0.5        1.0           1.0          0.5        1.0   \n",
              "\n",
              "  accuracy  \n",
              "0    0.850  \n",
              "1    1.000  \n",
              "2    0.925  \n",
              "\n",
              "[3 rows x 21 columns]"
            ]
          },
          "execution_count": 12,
          "metadata": {},
          "output_type": "execute_result"
        }
      ],
      "source": [
        "df_task2_checklist = pd.DataFrame(task2_checklist)\n",
        "task2_results = pd.concat([df_task2_checklist, pd.DataFrame(df_task2_checklist.mean(numeric_only=True, axis=0)).transpose()]).reset_index().drop(columns='index')\n",
        "if SAVE_CSV: task2_results.to_csv('task2_results.csv')\n",
        "task2_results"
      ]
    },
    {
      "cell_type": "markdown",
      "metadata": {
        "id": "DZFhS-ktNmnb"
      },
      "source": [
        "### Task 3"
      ]
    },
    {
      "cell_type": "code",
      "execution_count": 13,
      "metadata": {
        "id": "j_1XfvFWNdWs"
      },
      "outputs": [],
      "source": [
        "task3_checklist = []\n",
        "task_no = 2\n",
        "\n",
        "for item in list_tasks[task_no]:\n",
        "  task_checklist = {}\n",
        "  \n",
        "  task_checklist['service_hide'] = len([a for a in item['information'][0]['details'] if a['hide']]) == 4\n",
        "  task_checklist['contract_hide'] = len([a for a in item['information'][1]['details'] if a['hide']]) == 5\n",
        "  task_checklist['patient_name'] = len([a for a in item['information'][0]['details'] if a['inputDependencyField'] == 'actorid' and a['queryTable'] == 'staff' and a['queryField'] == 'name']) == 1\n",
        "  task_checklist['patient_name_fname'] = len([a for a in item['information'][0]['details'] if a['inputDependencyField'] == 'actorid' and a['queryTable'] == 'staff' and a['queryField'] == 'name' and a['name'] == \"Provider's Name\"]) == 1\n",
        "  task_checklist['patient_surname_fname'] = len([a for a in item['information'][0]['details'] if a['inputDependencyField'] == 'actorid' and a['queryTable'] == 'staff' and a['queryField'] == 'surname']) == 1\n",
        "  task_checklist['patient_surname_fname'] = len([a for a in item['information'][0]['details'] if a['inputDependencyField'] == 'actorid' and a['queryTable'] == 'staff' and a['queryField'] == 'surname' and a['name'] == \"Provider's Surname\"]) == 1\n",
        "\n",
        "  task_checklist['c_len'] = len(item['components']) == 1\n",
        "  task_checklist['c_header'] = objs_exist(item['components'], {'componentType': 'HEADER', 'name': 'Open Contract'})\n",
        "  contract_form = item['components'][0]['children'] if item['components'][0] else []\n",
        "  task_checklist['c_child_len'] = len(contract_form) == 6\n",
        "  task_checklist['c_idcontract'] = objs_exist(contract_form, {'inputDependencyField': 'idcontract', 'outputDependencyField': 'idcontract', 'hide': True})\n",
        "  task_checklist['c_reqservid'] = objs_exist(contract_form, {'inputDependencyField': 'reqservid', 'outputDependencyField': 'reqservid', 'hide': True})\n",
        "  task_checklist['c_providerid'] = objs_exist(contract_form, {'inputDependencyField': 'providerid', 'outputDependencyField': 'providerid', 'hide': True})\n",
        "  task_checklist['c_time_requested'] = objs_exist(contract_form, {'inputDependencyField': 'time_requested', 'outputDependencyField': 'time_requested', 'hide': True})\n",
        "  task_checklist['c_time_opened'] = objs_exist(contract_form, {'inputDependencyField': '', 'outputDependencyField': 'time_opened', 'hide': False, 'name': 'Date Opened', 'componentType': 'DATE', 'required': True})\n",
        "  task_checklist['c_stateid'] = objs_exist(contract_form, {'inputDependencyField': '', 'outputDependencyField': 'stateid', 'hide': False, 'name': 'Opened State', 'componentType': 'CONSTANT', 'required': True, 'validation': '3'})\n",
        "\n",
        "  task_checklist['accuracy'] = list(task_checklist.values()).count(True) / len(task_checklist.values())\n",
        "  task3_checklist.append(task_checklist)"
      ]
    },
    {
      "cell_type": "code",
      "execution_count": 14,
      "metadata": {
        "colab": {
          "base_uri": "https://localhost:8080/",
          "height": 143
        },
        "id": "cpcVjzxaN8tZ",
        "outputId": "ce777b8a-c86c-4850-c044-0a107ca3f98d"
      },
      "outputs": [
        {
          "data": {
            "text/html": [
              "<div>\n",
              "<style scoped>\n",
              "    .dataframe tbody tr th:only-of-type {\n",
              "        vertical-align: middle;\n",
              "    }\n",
              "\n",
              "    .dataframe tbody tr th {\n",
              "        vertical-align: top;\n",
              "    }\n",
              "\n",
              "    .dataframe thead th {\n",
              "        text-align: right;\n",
              "    }\n",
              "</style>\n",
              "<table border=\"1\" class=\"dataframe\">\n",
              "  <thead>\n",
              "    <tr style=\"text-align: right;\">\n",
              "      <th></th>\n",
              "      <th>service_hide</th>\n",
              "      <th>contract_hide</th>\n",
              "      <th>patient_name</th>\n",
              "      <th>patient_name_fname</th>\n",
              "      <th>patient_surname_fname</th>\n",
              "      <th>c_len</th>\n",
              "      <th>c_header</th>\n",
              "      <th>c_child_len</th>\n",
              "      <th>c_idcontract</th>\n",
              "      <th>c_reqservid</th>\n",
              "      <th>c_providerid</th>\n",
              "      <th>c_time_requested</th>\n",
              "      <th>c_time_opened</th>\n",
              "      <th>c_stateid</th>\n",
              "      <th>accuracy</th>\n",
              "    </tr>\n",
              "  </thead>\n",
              "  <tbody>\n",
              "    <tr>\n",
              "      <th>0</th>\n",
              "      <td>False</td>\n",
              "      <td>True</td>\n",
              "      <td>True</td>\n",
              "      <td>False</td>\n",
              "      <td>False</td>\n",
              "      <td>True</td>\n",
              "      <td>False</td>\n",
              "      <td>True</td>\n",
              "      <td>True</td>\n",
              "      <td>True</td>\n",
              "      <td>True</td>\n",
              "      <td>True</td>\n",
              "      <td>True</td>\n",
              "      <td>False</td>\n",
              "      <td>0.642857</td>\n",
              "    </tr>\n",
              "    <tr>\n",
              "      <th>1</th>\n",
              "      <td>True</td>\n",
              "      <td>True</td>\n",
              "      <td>True</td>\n",
              "      <td>True</td>\n",
              "      <td>True</td>\n",
              "      <td>True</td>\n",
              "      <td>True</td>\n",
              "      <td>True</td>\n",
              "      <td>True</td>\n",
              "      <td>True</td>\n",
              "      <td>True</td>\n",
              "      <td>True</td>\n",
              "      <td>True</td>\n",
              "      <td>True</td>\n",
              "      <td>1.000000</td>\n",
              "    </tr>\n",
              "    <tr>\n",
              "      <th>2</th>\n",
              "      <td>0.5</td>\n",
              "      <td>1.0</td>\n",
              "      <td>1.0</td>\n",
              "      <td>0.5</td>\n",
              "      <td>0.5</td>\n",
              "      <td>1.0</td>\n",
              "      <td>0.5</td>\n",
              "      <td>1.0</td>\n",
              "      <td>1.0</td>\n",
              "      <td>1.0</td>\n",
              "      <td>1.0</td>\n",
              "      <td>1.0</td>\n",
              "      <td>1.0</td>\n",
              "      <td>0.5</td>\n",
              "      <td>0.821429</td>\n",
              "    </tr>\n",
              "  </tbody>\n",
              "</table>\n",
              "</div>"
            ],
            "text/plain": [
              "  service_hide contract_hide patient_name patient_name_fname  \\\n",
              "0        False          True         True              False   \n",
              "1         True          True         True               True   \n",
              "2          0.5           1.0          1.0                0.5   \n",
              "\n",
              "  patient_surname_fname c_len c_header c_child_len c_idcontract c_reqservid  \\\n",
              "0                 False  True    False        True         True        True   \n",
              "1                  True  True     True        True         True        True   \n",
              "2                   0.5   1.0      0.5         1.0          1.0         1.0   \n",
              "\n",
              "  c_providerid c_time_requested c_time_opened c_stateid  accuracy  \n",
              "0         True             True          True     False  0.642857  \n",
              "1         True             True          True      True  1.000000  \n",
              "2          1.0              1.0           1.0       0.5  0.821429  "
            ]
          },
          "execution_count": 14,
          "metadata": {},
          "output_type": "execute_result"
        }
      ],
      "source": [
        "df_task3_checklist = pd.DataFrame(task3_checklist)\n",
        "task3_results = pd.concat([df_task3_checklist, pd.DataFrame(df_task3_checklist.mean(numeric_only=True, axis=0)).transpose()]).reset_index().drop(columns='index')\n",
        "if SAVE_CSV: task3_results.to_csv('task3_results.csv')\n",
        "task3_results"
      ]
    },
    {
      "cell_type": "code",
      "execution_count": null,
      "metadata": {
        "id": "FKG5hndHOeDY"
      },
      "outputs": [],
      "source": []
    }
  ],
  "metadata": {
    "colab": {
      "collapsed_sections": [],
      "name": "user-eval.ipynb",
      "provenance": []
    },
    "kernelspec": {
      "display_name": "Python 3.9.13 ('database': venv)",
      "language": "python",
      "name": "python3"
    },
    "language_info": {
      "codemirror_mode": {
        "name": "ipython",
        "version": 3
      },
      "file_extension": ".py",
      "mimetype": "text/x-python",
      "name": "python",
      "nbconvert_exporter": "python",
      "pygments_lexer": "ipython3",
      "version": "3.9.13"
    },
    "vscode": {
      "interpreter": {
        "hash": "3245ae7277c6f2e4a71b21b5f07ed6b4d79c5b894a545224504bbaccea2022da"
      }
    }
  },
  "nbformat": 4,
  "nbformat_minor": 0
}
